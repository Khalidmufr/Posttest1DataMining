{
  "nbformat": 4,
  "nbformat_minor": 0,
  "metadata": {
    "colab": {
      "provenance": [],
      "collapsed_sections": [
        "u3TMHbAjsj2Q",
        "FBLyM5L0umIx",
        "3FhNouj2h0RG",
        "Fw_sZiFFkPji",
        "tFL4UefelcnN"
      ],
      "authorship_tag": "ABX9TyPry23G8oTvhjdBacGMD3b+",
      "include_colab_link": true
    },
    "kernelspec": {
      "name": "python3",
      "display_name": "Python 3"
    },
    "language_info": {
      "name": "python"
    }
  },
  "cells": [
    {
      "cell_type": "markdown",
      "metadata": {
        "id": "view-in-github",
        "colab_type": "text"
      },
      "source": [
        "<a href=\"https://colab.research.google.com/github/Khalidmufr/Posttest1DataMining/blob/main/C_2109116100_Posttest_1.ipynb\" target=\"_parent\"><img src=\"https://colab.research.google.com/assets/colab-badge.svg\" alt=\"Open In Colab\"/></a>"
      ]
    },
    {
      "cell_type": "markdown",
      "source": [
        "**Nama : Khalid Mu'afi Rabbani**\n",
        "\n",
        "---\n",
        "\n",
        "**NIM  : 2109116100**"
      ],
      "metadata": {
        "id": "ntkETdxYXyRu"
      }
    },
    {
      "cell_type": "markdown",
      "source": [
        "# Business Understanding and Data Understanding"
      ],
      "metadata": {
        "id": "lSHXn_VKgR29"
      }
    },
    {
      "cell_type": "code",
      "execution_count": null,
      "metadata": {
        "id": "diqShrZUXhyh"
      },
      "outputs": [],
      "source": [
        "import pandas as pd             # import library yang nanti akan digunakan\n",
        "import seaborn as sb            # import library yang nanti akan digunakan\n",
        "import plotly.express as px     # import library yang nanti akan digunakan"
      ]
    },
    {
      "cell_type": "code",
      "source": [
        "df = pd.read_csv(\"ChurnBank.csv\") # membaca file csv menggunakan library pandas dan disimpan dengan nama variabel df"
      ],
      "metadata": {
        "id": "S0S0NYKEh4pq"
      },
      "execution_count": null,
      "outputs": []
    },
    {
      "cell_type": "code",
      "source": [
        "df      # menampilkan data yang telah dibaca oleh library pandas"
      ],
      "metadata": {
        "id": "HGVIyjIvi3lV"
      },
      "execution_count": null,
      "outputs": []
    },
    {
      "cell_type": "markdown",
      "source": [
        "**Business Understanding**\n",
        "\n",
        "Disini kamu berandai andai bahwa kamu adalah direktur sebuah perusahaan, kamu menggunakan dataset ini dan akan menggunakan algoritma Naive Bayes untuk perkembangan perusahaan kamu. Jelaskan tujuan penggunaan dataset ini, tujuan perusahaan, serta tujuan dari penggunaan naive bayes\n",
        "\n",
        "Jawaban:\n",
        "\n"
      ],
      "metadata": {
        "id": "c5jdD2RhgkCQ"
      }
    },
    {
      "cell_type": "markdown",
      "source": [
        "## Data Understanding"
      ],
      "metadata": {
        "id": "J79ph4rAhfnB"
      }
    },
    {
      "cell_type": "code",
      "source": [
        "df1 = df[df[\"Attrition_Flag\"] == \"Attrited Customer\"]       # menampilkan data set dimana di dalam kolom Attrition_Flag bernilai Attrited Customer \n",
        "df2 = df[df[\"Attrition_Flag\"] != \"Attrited Customer\"]       # menampilkan data set dimana di dalam kolom Attrition_Flag tidak bernilai Attrited Customer \n",
        "df3 = df[df[\"Customer_Age\"] < 50]                           # menampilkan data set dimana di dalam kolom Customer Age bernilai lebih dari 50\n",
        "df4 = df[df[\"Marital_Status\"] == \"Single\"]                  # menampilkan data set dimana di dalam kolom Marital Status bernilai Single"
      ],
      "metadata": {
        "id": "MlDhZhQxiN6p"
      },
      "execution_count": null,
      "outputs": []
    },
    {
      "cell_type": "code",
      "source": [
        "df.info()"
      ],
      "metadata": {
        "id": "xvCFCu7lo0i1",
        "colab": {
          "base_uri": "https://localhost:8080/"
        },
        "outputId": "a6070535-d8bf-4a8f-b1dd-8ab2e13cfb9e"
      },
      "execution_count": null,
      "outputs": [
        {
          "output_type": "stream",
          "name": "stdout",
          "text": [
            "<class 'pandas.core.frame.DataFrame'>\n",
            "RangeIndex: 20 entries, 0 to 19\n",
            "Data columns (total 10 columns):\n",
            " #   Column           Non-Null Count  Dtype  \n",
            "---  ------           --------------  -----  \n",
            " 0   Unnamed: 0       20 non-null     int64  \n",
            " 1   CLIENTNUM        20 non-null     int64  \n",
            " 2   Attrition_Flag   20 non-null     object \n",
            " 3   Customer_Age     20 non-null     int64  \n",
            " 4   Gender           20 non-null     object \n",
            " 5   Education_Level  20 non-null     object \n",
            " 6   Marital_Status   20 non-null     object \n",
            " 7   Income_Category  20 non-null     object \n",
            " 8   Card_Category    20 non-null     object \n",
            " 9   Credit_Limit     20 non-null     float64\n",
            "dtypes: float64(1), int64(3), object(6)\n",
            "memory usage: 1.7+ KB\n"
          ]
        }
      ]
    },
    {
      "cell_type": "markdown",
      "source": [
        "**Penjelasan dari df.info()**\n",
        "\n",
        "---\n",
        "\n",
        "\n",
        "\n",
        "*   Memiliki 20 baris dimulai dari 0 hingga 19\n",
        "*   Memiliki 10 kolom\n",
        "\n",
        "*   Kolom pertama tanpa nama bertipe int64\n",
        "*   Kolom kedua bernama CLIENTNUM  bertipe int64\n",
        "\n",
        "*   Kolom ketiga bernama Attrition_Flag bertipe object\n",
        "*   Kolom keempat bernama Curtomer_Age bertipe int64\n",
        "\n",
        "*   Kolom kelima bernama Gender bertipe object\n",
        "*   Kolom keenam bernama Education_Level bertipe object\n",
        "\n",
        "*   Kolom ketujuh bernama Marital_Status bertipe object\n",
        "*   Kolom kedelapan bernama Income_Category bertipe object\n",
        "\n",
        "*   Kolom kesembilan bernama Card_Category bertipe object\n",
        "*   Kolom kesepuluh bernama Credit_Limir bertipe float64\n",
        "\n",
        "\n",
        "\n",
        "\n",
        "\n",
        "\n",
        "\n",
        "\n",
        "\n",
        "\n",
        "\n",
        "\n",
        "\n",
        "\n",
        "\n",
        "\n",
        "\n"
      ],
      "metadata": {
        "id": "d7MgGiYDppV8"
      }
    },
    {
      "cell_type": "markdown",
      "source": [
        "### Opsional (Nilai Plus)"
      ],
      "metadata": {
        "id": "u3TMHbAjsj2Q"
      }
    },
    {
      "cell_type": "code",
      "source": [
        "df[\"Customer_Age\"].mean()         # mencari rata-rata dari kolom customer age"
      ],
      "metadata": {
        "id": "SZVUDWqjsr-N"
      },
      "execution_count": null,
      "outputs": []
    },
    {
      "cell_type": "code",
      "source": [
        "df[\"Customer_Age\"].nlargest(1)    # mencari nilai paling besar dari kolom customer age"
      ],
      "metadata": {
        "id": "UNR1-hHVtjtH"
      },
      "execution_count": null,
      "outputs": []
    },
    {
      "cell_type": "code",
      "source": [
        "df[\"Customer_Age\"].nsmallest(1)   # mencari nilai paling kecil dari kolom customer age"
      ],
      "metadata": {
        "id": "-WVaUsJqtlye"
      },
      "execution_count": null,
      "outputs": []
    },
    {
      "cell_type": "code",
      "source": [
        "df[\"Customer_Age\"].std()          # mencari standar deviasi dari kolom customer age"
      ],
      "metadata": {
        "id": "YO5-LqjguPVN"
      },
      "execution_count": null,
      "outputs": []
    },
    {
      "cell_type": "code",
      "source": [
        "df[\"Credit_Limit\"].mean           # mencari rata-rata dari kolom credit limit"
      ],
      "metadata": {
        "id": "bJTdomcWvl06"
      },
      "execution_count": null,
      "outputs": []
    },
    {
      "cell_type": "code",
      "source": [
        "df[\"Credit_Limit\"].nlargest(1)    # mencari nilai paling besar dari kolom credit limit"
      ],
      "metadata": {
        "id": "_atez9YqvtFm"
      },
      "execution_count": null,
      "outputs": []
    },
    {
      "cell_type": "code",
      "source": [
        "df[\"Credit_Limit\"].nsmallest(1)   # mencari nilai paling kecil dari kolom credit limit "
      ],
      "metadata": {
        "id": "cSOC8wInvtpT"
      },
      "execution_count": null,
      "outputs": []
    },
    {
      "cell_type": "code",
      "source": [
        "df[\"Credit_Limit\"].std()          # mencari standar deviasi dari kolom credit limit "
      ],
      "metadata": {
        "id": "xcRCRusSvuMM"
      },
      "execution_count": null,
      "outputs": []
    },
    {
      "cell_type": "markdown",
      "source": [
        "## Eksplore Data"
      ],
      "metadata": {
        "id": "WN4FLIhcufDe"
      }
    },
    {
      "cell_type": "markdown",
      "source": [
        "### Visualisasi Comparison"
      ],
      "metadata": {
        "id": "FBLyM5L0umIx"
      }
    },
    {
      "cell_type": "code",
      "source": [
        "sb.countplot(data=df, x=\"Attrition_Flag\")   # menampilkan grafik dari kolom attrition flag yang memilik 2 nilai"
      ],
      "metadata": {
        "id": "oJ1k-nxcuoe0"
      },
      "execution_count": null,
      "outputs": []
    },
    {
      "cell_type": "code",
      "source": [
        "sb.countplot(data=df, x=\"Education_Level\")  # menampilkan data dalam bentuk diagram dari set data df dengan kolom education level"
      ],
      "metadata": {
        "id": "g3kIz8_8ygPZ"
      },
      "execution_count": null,
      "outputs": []
    },
    {
      "cell_type": "code",
      "source": [
        "sb.countplot(data=df[df['Gender'] == \"M\"], x=\"Education_Level\") # menampilkan data dalam bentuk diagram dari set data df \n",
        "                                                                # tetapi hanya yang bergender m saja dengan kolom education level"
      ],
      "metadata": {
        "id": "Lh2RljQDgc1W"
      },
      "execution_count": null,
      "outputs": []
    },
    {
      "cell_type": "code",
      "source": [
        "sb.countplot(data=df[df['Gender'] == \"F\"], x=\"Education_Level\") # menampilkan data dalam bentuk diagram dari set data df \n",
        "                                                                # tetapi hanya yang bergender f saja dengan kolom education level"
      ],
      "metadata": {
        "id": "8JJyTevthYc_"
      },
      "execution_count": null,
      "outputs": []
    },
    {
      "cell_type": "markdown",
      "source": [
        "### Visual Distribution"
      ],
      "metadata": {
        "id": "3FhNouj2h0RG"
      }
    },
    {
      "cell_type": "code",
      "source": [
        "sb.histplot(data=df, x=\"Customer_Age\", kde=True)    # menampilkan histogram dari kolom customer age menggunakan set data df"
      ],
      "metadata": {
        "id": "3ultlGuWh4wb"
      },
      "execution_count": null,
      "outputs": []
    },
    {
      "cell_type": "code",
      "source": [
        "sb.histplot(data=df, x=\"Credit_Limit\", kde=True)    # menampilkan histogram dari kolom credit limit menggunakan set data df"
      ],
      "metadata": {
        "id": "D833HW8Eiz7Y"
      },
      "execution_count": null,
      "outputs": []
    },
    {
      "cell_type": "code",
      "source": [
        "sb.boxplot(data=df, x=\"Customer_Age\")               # menampilkan boxplot dari kolom customer age menggunakan set data df"
      ],
      "metadata": {
        "id": "Rqjgp8wejh7y"
      },
      "execution_count": null,
      "outputs": []
    },
    {
      "cell_type": "code",
      "source": [
        "sb.boxplot(data=df, x=\"Credit_Limit\")               # menampilkan boxplot dari kolom customer age menggunakan set data df"
      ],
      "metadata": {
        "id": "J7UMj7yEj97j"
      },
      "execution_count": null,
      "outputs": []
    },
    {
      "cell_type": "markdown",
      "source": [
        "### Visual Relationship"
      ],
      "metadata": {
        "id": "Fw_sZiFFkPji"
      }
    },
    {
      "cell_type": "code",
      "source": [
        "sb.scatterplot(data=df, x=\"Customer_Age\", y=\"Credit_Limit\")   # menampilkan scatterplot dari kolom customer age sebagai x dan kolom credit limit sebagai y"
      ],
      "metadata": {
        "colab": {
          "base_uri": "https://localhost:8080/",
          "height": 297
        },
        "id": "QdZYsvzOkSDN",
        "outputId": "813a3845-e51f-494e-e9ab-fb8e8efc75c8"
      },
      "execution_count": null,
      "outputs": [
        {
          "output_type": "execute_result",
          "data": {
            "text/plain": [
              "<AxesSubplot:xlabel='Customer_Age', ylabel='Credit_Limit'>"
            ]
          },
          "metadata": {},
          "execution_count": 32
        },
        {
          "output_type": "display_data",
          "data": {
            "text/plain": [
              "<Figure size 432x288 with 1 Axes>"
            ],
            "image/png": "[encoded data removed]"
          },
          "metadata": {
            "needs_background": "light"
          }
        }
      ]
    },
    {
      "cell_type": "markdown",
      "source": [
        "### Visual Composition"
      ],
      "metadata": {
        "id": "tFL4UefelcnN"
      }
    },
    {
      "cell_type": "code",
      "source": [
        "px.pie(df, names=\"Income_Category\")     # menampilkan data dalam bentuk pie dari kolom income categori menggunakan data set df"
      ],
      "metadata": {
        "id": "wP53MSJ7l_Dh"
      },
      "execution_count": null,
      "outputs": []
    },
    {
      "cell_type": "code",
      "source": [
        "px.pie(df, names=\"Education_Level\")     # menampilkan data dalam bentuk pie dari kolom education level menggunakan data set df   "
      ],
      "metadata": {
        "id": "fjIEJw_ilgKW"
      },
      "execution_count": null,
      "outputs": []
    },
    {
      "cell_type": "markdown",
      "source": [
        "### Opsional (Nilai Plus)"
      ],
      "metadata": {
        "id": "Xlzu5i9inDLo"
      }
    },
    {
      "cell_type": "code",
      "source": [
        "sb.boxplot(data=df, x=\"Credit_Limit\", y=\"Gender\")             # membuat boxplot menggunakan data set df dari kolom credit limit dengan pembeda gender "
      ],
      "metadata": {
        "id": "2aLrwLNKnIUl"
      },
      "execution_count": null,
      "outputs": []
    },
    {
      "cell_type": "code",
      "source": [
        "sb.boxplot(data=df, x=\"Credit_Limit\", y=\"Attrition_Flag\")     # membuat boxplot menggunakan data set df dari kolom credit limit dengan pembeda attrition flag "
      ],
      "metadata": {
        "id": "WakprWxKpLs6"
      },
      "execution_count": null,
      "outputs": []
    },
    {
      "cell_type": "code",
      "source": [
        "sb.boxplot(data=df, x=\"Customer_Age\", y=\"Attrition_Flag\")     # membuat boxplot menggunakan data set df dari kolom customer age dengan pembeda attrition fag"
      ],
      "metadata": {
        "id": "GXhLCa-Ypt5L"
      },
      "execution_count": null,
      "outputs": []
    },
    {
      "cell_type": "code",
      "source": [
        "sb.countplot(data=df, x=\"Attrition_Flag\", hue=\"Gender\")       # membuat countplot menggunakan data set df dari kolom attrition flag dengan pembeda gender"
      ],
      "metadata": {
        "id": "Iy32Ly1EsabA"
      },
      "execution_count": null,
      "outputs": []
    },
    {
      "cell_type": "code",
      "source": [
        "data1 = np.asarray(df['Customer_Age']).reshape(20,1)  # karena pada data customer age memiliki array numpy 1D yaitu (20, ) maka harus dibuat menjadi 2D\n",
        "                                                      # dengan menggunakan perintah .reshape menjadi (20, 1) sehingga array tersebut memiliki 20 baris dan 1 kolom\n",
        "sb.heatmap(data1, cmap=\"GnBu\")                        # membuat heatmap menggunakan data yang telah di modifikasi menjadi 2D"
      ],
      "metadata": {
        "id": "wjNVjxUxD2Or"
      },
      "execution_count": null,
      "outputs": []
    },
    {
      "cell_type": "code",
      "source": [
        "data2 = np.asarray(df['Credit_Limit']).reshape(20,1)  # karena pada data credit limit memiliki array numpy 1D yaitu (20, ) maka harus dibuat menjadi 2D\n",
        "                                                      # dengan menggunakan perintah .reshape menjadi (20, 1) sehingga array tersebut memiliki 20 baris dan 1 kolom\n",
        "sb.heatmap(data2, cmap=\"Spectral\")                    # membuat heatmap menggunakan data yang telah di modifikasi menjadi 2D"
      ],
      "metadata": {
        "id": "D0QqTuGGGzeI"
      },
      "execution_count": null,
      "outputs": []
    },
    {
      "cell_type": "markdown",
      "source": [
        "# Algoritma Naive Bayes dan Preprocessing (pengenalan)"
      ],
      "metadata": {
        "id": "NLlsuk4PuqQ1"
      }
    },
    {
      "cell_type": "markdown",
      "source": [
        "**Langkah-Langkah Program Dibawah ini:**\n",
        "\n",
        "\n",
        "1.   Run balok kode mulai dari atas hingga paling akhir/bawah\n",
        "2.   Pastikan tidak ada balok kode yang terlewat pada saat mencoba menjalankannya\n",
        "\n",
        "1.   Masukkan nilai apabila diminta untuk memasukkan\n",
        "2.   Pengetikan/tulisan pada saat memasukkan nilai **HARUS SAMA** dengan yang ada pada data frame\n",
        "\n",
        "\n",
        "\n"
      ],
      "metadata": {
        "id": "EQyzZfq-KDwZ"
      }
    },
    {
      "cell_type": "code",
      "source": [
        "import numpy as np      # mengimport library numpy sebagai np yang nantinya akan digunakan"
      ],
      "metadata": {
        "id": "Dv2l6Lqp7w5e"
      },
      "execution_count": null,
      "outputs": []
    },
    {
      "cell_type": "code",
      "source": [
        "df_baru = pd.read_csv(\"ChurnBank.csv\")         # menampung nilai variabel df ke dalam variabel baru yaitu df_baru"
      ],
      "metadata": {
        "id": "EUU3WV3Quyp-"
      },
      "execution_count": null,
      "outputs": []
    },
    {
      "cell_type": "code",
      "source": [
        "del df_baru['Unnamed: 0']     # menghapus kolom bernama Unnamed: 0 dari df_baru"
      ],
      "metadata": {
        "id": "XSnAHGXju8pJ"
      },
      "execution_count": null,
      "outputs": []
    },
    {
      "cell_type": "code",
      "source": [
        "del df_baru['CLIENTNUM']      # menghapus kolom bernama CLIENTNUM dari df_baru"
      ],
      "metadata": {
        "id": "UE1TkEo7vjmJ"
      },
      "execution_count": null,
      "outputs": []
    },
    {
      "cell_type": "code",
      "source": [
        "del df_baru['Customer_Age']   # menghapus kolom bernama Customer_Age dari df_baru"
      ],
      "metadata": {
        "id": "FvSmxZDfvpvu"
      },
      "execution_count": null,
      "outputs": []
    },
    {
      "cell_type": "code",
      "source": [
        "del df_baru['Credit_Limit']   # menghapus kolom bernama Credit_Limit dari df_baru"
      ],
      "metadata": {
        "id": "g5xvJokIvv3c"
      },
      "execution_count": null,
      "outputs": []
    },
    {
      "cell_type": "code",
      "source": [
        "df_baru"
      ],
      "metadata": {
        "id": "Hn4fEi3sveGh"
      },
      "execution_count": null,
      "outputs": []
    },
    {
      "cell_type": "code",
      "source": [
        "# menghitung jumlah kemunculan setiap kategori\n",
        "category_counts = df_baru[\"Attrition_Flag\"].value_counts(normalize=True).to_dict()"
      ],
      "metadata": {
        "id": "TE-U1Qhs2naD"
      },
      "execution_count": null,
      "outputs": []
    },
    {
      "cell_type": "code",
      "source": [
        "# menghitung jumlah kemunculan setiap kategori dari setiap nilai yang dimasukkan nantinya\n",
        "mycounts = {}\n",
        "for hitung in [\"Gender\", \"Education_Level\", \"Marital_Status\", \"Income_Category\", \"Card_Category\"] :\n",
        "  mycounts[hitung] = df_baru.groupby([hitung, \"Attrition_Flag\"]).size().unstack(fill_value=0)"
      ],
      "metadata": {
        "id": "2P1epVlt3CgD"
      },
      "execution_count": null,
      "outputs": []
    },
    {
      "cell_type": "code",
      "source": [
        "# menghitung kemungkinan kategori\n",
        "category_probs = category_counts"
      ],
      "metadata": {
        "id": "l52I_fTZ378_"
      },
      "execution_count": null,
      "outputs": []
    },
    {
      "cell_type": "code",
      "source": [
        "# menghitung kemungkinan setiap nilai yang akan dimasukkan untuk setiap kategori\n",
        "myprobs = {}\n",
        "for hitung in [\"Gender\", \"Education_Level\", \"Marital_Status\", \"Income_Category\", \"Card_Category\"] :\n",
        "  myprobs[hitung] = mycounts[hitung].apply(lambda x: x / x.sum(), axis=1)"
      ],
      "metadata": {
        "id": "Kr17j4Bt4bZn"
      },
      "execution_count": null,
      "outputs": []
    },
    {
      "cell_type": "code",
      "source": [
        "# meminta input dari pengguna untuk nilai dari kolom gender, education level, marital status, income category, dan card category\n",
        "gender = input(\"Masukkan Nilai Gender(F/M): \")\n",
        "elvl = input(\"Masukkan Nilai Education Level: \")\n",
        "mstats = input(\"Masukkan Nilai Marital Status: \")\n",
        "ictgy = input(\"Masukkan Nilai Income Category: \")\n",
        "cctgy = input(\"Masukkan Nilai Card Category: \")\n",
        "\n",
        "# mencari kemungkinan dari inputan pengguna\n",
        "scores = {}\n",
        "for ctg in category_probs :\n",
        "  score = np.log(category_probs[ctg])\n",
        "  for hitung, val in zip([\"Gender\", \"Education_Level\", \"Marital_Status\", \"Income_Category\", \"Card_Category\"], [gender, elvl, mstats, ictgy, cctgy]):\n",
        "    if val in myprobs[hitung].index:\n",
        "      score += np.log(myprobs[hitung].loc[val, ctg])\n",
        "  scores[ctg] = score\n",
        "pred_ctg = max(scores, key=scores.get)\n",
        "pred_prob = np.exp(scores[pred_ctg])\n",
        "\n",
        "#mengubah bentuk float dari prediksi menjadi bentuk persen\n",
        "pred_prob_percent = pred_prob * 100\n",
        "pred_prob_string = \"{:.2f}%\".format(pred_prob_percent)\n",
        "\n",
        "\n",
        "# menampilkan hasil prediksi dan persentasi kemungkinan\n",
        "print(\"\")\n",
        "print(\"Presiksi                 : \", pred_ctg)\n",
        "print(\"Persentase Kemungkinan   : \", pred_prob, \"(\", pred_prob_string, \")\" )\n"
      ],
      "metadata": {
        "id": "mz3La_OU6uqT"
      },
      "execution_count": null,
      "outputs": []
    }
  ]
}